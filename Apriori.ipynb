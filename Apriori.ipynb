{
 "cells": [
  {
   "cell_type": "code",
   "execution_count": 1,
   "id": "be88d703",
   "metadata": {},
   "outputs": [
    {
     "name": "stdout",
     "output_type": "stream",
     "text": [
      "Requirement already satisfied: apyori in c:\\users\\hp\\anaconda3\\lib\\site-packages (1.1.2)\n"
     ]
    }
   ],
   "source": [
    "!pip install apyori"
   ]
  },
  {
   "cell_type": "code",
   "execution_count": 2,
   "id": "6c423fb2",
   "metadata": {},
   "outputs": [],
   "source": [
    "import pandas as pd\n",
    "\n",
    "from apyori import apriori"
   ]
  },
  {
   "cell_type": "code",
   "execution_count": 3,
   "id": "cf0d0f2d",
   "metadata": {},
   "outputs": [],
   "source": [
    "data = pd.read_csv(\"Groceries.csv\")"
   ]
  },
  {
   "cell_type": "code",
   "execution_count": 4,
   "id": "953fe93a",
   "metadata": {},
   "outputs": [],
   "source": [
    "df = pd.DataFrame(data)"
   ]
  },
  {
   "cell_type": "code",
   "execution_count": 5,
   "id": "79e96027",
   "metadata": {
    "scrolled": true
   },
   "outputs": [
    {
     "data": {
      "text/html": [
       "<div>\n",
       "<style scoped>\n",
       "    .dataframe tbody tr th:only-of-type {\n",
       "        vertical-align: middle;\n",
       "    }\n",
       "\n",
       "    .dataframe tbody tr th {\n",
       "        vertical-align: top;\n",
       "    }\n",
       "\n",
       "    .dataframe thead th {\n",
       "        text-align: right;\n",
       "    }\n",
       "</style>\n",
       "<table border=\"1\" class=\"dataframe\">\n",
       "  <thead>\n",
       "    <tr style=\"text-align: right;\">\n",
       "      <th></th>\n",
       "      <th>citrus fruit</th>\n",
       "      <th>semi-finished bread</th>\n",
       "      <th>margarine</th>\n",
       "      <th>ready soups</th>\n",
       "      <th>Unnamed: 4</th>\n",
       "      <th>Unnamed: 5</th>\n",
       "      <th>Unnamed: 6</th>\n",
       "      <th>Unnamed: 7</th>\n",
       "      <th>Unnamed: 8</th>\n",
       "      <th>Unnamed: 9</th>\n",
       "      <th>...</th>\n",
       "      <th>Unnamed: 22</th>\n",
       "      <th>Unnamed: 23</th>\n",
       "      <th>Unnamed: 24</th>\n",
       "      <th>Unnamed: 25</th>\n",
       "      <th>Unnamed: 26</th>\n",
       "      <th>Unnamed: 27</th>\n",
       "      <th>Unnamed: 28</th>\n",
       "      <th>Unnamed: 29</th>\n",
       "      <th>Unnamed: 30</th>\n",
       "      <th>Unnamed: 31</th>\n",
       "    </tr>\n",
       "  </thead>\n",
       "  <tbody>\n",
       "    <tr>\n",
       "      <th>0</th>\n",
       "      <td>tropical fruit</td>\n",
       "      <td>yogurt</td>\n",
       "      <td>coffee</td>\n",
       "      <td>NaN</td>\n",
       "      <td>NaN</td>\n",
       "      <td>NaN</td>\n",
       "      <td>NaN</td>\n",
       "      <td>NaN</td>\n",
       "      <td>NaN</td>\n",
       "      <td>NaN</td>\n",
       "      <td>...</td>\n",
       "      <td>NaN</td>\n",
       "      <td>NaN</td>\n",
       "      <td>NaN</td>\n",
       "      <td>NaN</td>\n",
       "      <td>NaN</td>\n",
       "      <td>NaN</td>\n",
       "      <td>NaN</td>\n",
       "      <td>NaN</td>\n",
       "      <td>NaN</td>\n",
       "      <td>NaN</td>\n",
       "    </tr>\n",
       "    <tr>\n",
       "      <th>1</th>\n",
       "      <td>whole milk</td>\n",
       "      <td>NaN</td>\n",
       "      <td>NaN</td>\n",
       "      <td>NaN</td>\n",
       "      <td>NaN</td>\n",
       "      <td>NaN</td>\n",
       "      <td>NaN</td>\n",
       "      <td>NaN</td>\n",
       "      <td>NaN</td>\n",
       "      <td>NaN</td>\n",
       "      <td>...</td>\n",
       "      <td>NaN</td>\n",
       "      <td>NaN</td>\n",
       "      <td>NaN</td>\n",
       "      <td>NaN</td>\n",
       "      <td>NaN</td>\n",
       "      <td>NaN</td>\n",
       "      <td>NaN</td>\n",
       "      <td>NaN</td>\n",
       "      <td>NaN</td>\n",
       "      <td>NaN</td>\n",
       "    </tr>\n",
       "    <tr>\n",
       "      <th>2</th>\n",
       "      <td>pip fruit</td>\n",
       "      <td>yogurt</td>\n",
       "      <td>cream cheese</td>\n",
       "      <td>meat spreads</td>\n",
       "      <td>NaN</td>\n",
       "      <td>NaN</td>\n",
       "      <td>NaN</td>\n",
       "      <td>NaN</td>\n",
       "      <td>NaN</td>\n",
       "      <td>NaN</td>\n",
       "      <td>...</td>\n",
       "      <td>NaN</td>\n",
       "      <td>NaN</td>\n",
       "      <td>NaN</td>\n",
       "      <td>NaN</td>\n",
       "      <td>NaN</td>\n",
       "      <td>NaN</td>\n",
       "      <td>NaN</td>\n",
       "      <td>NaN</td>\n",
       "      <td>NaN</td>\n",
       "      <td>NaN</td>\n",
       "    </tr>\n",
       "    <tr>\n",
       "      <th>3</th>\n",
       "      <td>other vegetables</td>\n",
       "      <td>whole milk</td>\n",
       "      <td>condensed milk</td>\n",
       "      <td>long life bakery product</td>\n",
       "      <td>NaN</td>\n",
       "      <td>NaN</td>\n",
       "      <td>NaN</td>\n",
       "      <td>NaN</td>\n",
       "      <td>NaN</td>\n",
       "      <td>NaN</td>\n",
       "      <td>...</td>\n",
       "      <td>NaN</td>\n",
       "      <td>NaN</td>\n",
       "      <td>NaN</td>\n",
       "      <td>NaN</td>\n",
       "      <td>NaN</td>\n",
       "      <td>NaN</td>\n",
       "      <td>NaN</td>\n",
       "      <td>NaN</td>\n",
       "      <td>NaN</td>\n",
       "      <td>NaN</td>\n",
       "    </tr>\n",
       "    <tr>\n",
       "      <th>4</th>\n",
       "      <td>whole milk</td>\n",
       "      <td>butter</td>\n",
       "      <td>yogurt</td>\n",
       "      <td>rice</td>\n",
       "      <td>abrasive cleaner</td>\n",
       "      <td>NaN</td>\n",
       "      <td>NaN</td>\n",
       "      <td>NaN</td>\n",
       "      <td>NaN</td>\n",
       "      <td>NaN</td>\n",
       "      <td>...</td>\n",
       "      <td>NaN</td>\n",
       "      <td>NaN</td>\n",
       "      <td>NaN</td>\n",
       "      <td>NaN</td>\n",
       "      <td>NaN</td>\n",
       "      <td>NaN</td>\n",
       "      <td>NaN</td>\n",
       "      <td>NaN</td>\n",
       "      <td>NaN</td>\n",
       "      <td>NaN</td>\n",
       "    </tr>\n",
       "  </tbody>\n",
       "</table>\n",
       "<p>5 rows × 32 columns</p>\n",
       "</div>"
      ],
      "text/plain": [
       "       citrus fruit semi-finished bread       margarine  \\\n",
       "0    tropical fruit              yogurt          coffee   \n",
       "1        whole milk                 NaN             NaN   \n",
       "2         pip fruit              yogurt    cream cheese   \n",
       "3  other vegetables          whole milk  condensed milk   \n",
       "4        whole milk              butter          yogurt   \n",
       "\n",
       "                ready soups        Unnamed: 4 Unnamed: 5 Unnamed: 6  \\\n",
       "0                       NaN               NaN        NaN        NaN   \n",
       "1                       NaN               NaN        NaN        NaN   \n",
       "2              meat spreads               NaN        NaN        NaN   \n",
       "3  long life bakery product               NaN        NaN        NaN   \n",
       "4                      rice  abrasive cleaner        NaN        NaN   \n",
       "\n",
       "  Unnamed: 7 Unnamed: 8 Unnamed: 9  ... Unnamed: 22 Unnamed: 23 Unnamed: 24  \\\n",
       "0        NaN        NaN        NaN  ...         NaN         NaN         NaN   \n",
       "1        NaN        NaN        NaN  ...         NaN         NaN         NaN   \n",
       "2        NaN        NaN        NaN  ...         NaN         NaN         NaN   \n",
       "3        NaN        NaN        NaN  ...         NaN         NaN         NaN   \n",
       "4        NaN        NaN        NaN  ...         NaN         NaN         NaN   \n",
       "\n",
       "  Unnamed: 25 Unnamed: 26 Unnamed: 27 Unnamed: 28 Unnamed: 29 Unnamed: 30  \\\n",
       "0         NaN         NaN         NaN         NaN         NaN         NaN   \n",
       "1         NaN         NaN         NaN         NaN         NaN         NaN   \n",
       "2         NaN         NaN         NaN         NaN         NaN         NaN   \n",
       "3         NaN         NaN         NaN         NaN         NaN         NaN   \n",
       "4         NaN         NaN         NaN         NaN         NaN         NaN   \n",
       "\n",
       "  Unnamed: 31  \n",
       "0         NaN  \n",
       "1         NaN  \n",
       "2         NaN  \n",
       "3         NaN  \n",
       "4         NaN  \n",
       "\n",
       "[5 rows x 32 columns]"
      ]
     },
     "execution_count": 5,
     "metadata": {},
     "output_type": "execute_result"
    }
   ],
   "source": [
    "df.head()"
   ]
  },
  {
   "cell_type": "code",
   "execution_count": 16,
   "id": "3cd38fcc",
   "metadata": {},
   "outputs": [
    {
     "name": "stdout",
     "output_type": "stream",
     "text": [
      "9834\n"
     ]
    }
   ],
   "source": [
    "print(len(df))"
   ]
  },
  {
   "cell_type": "code",
   "execution_count": 14,
   "id": "3725e095",
   "metadata": {},
   "outputs": [
    {
     "name": "stdout",
     "output_type": "stream",
     "text": [
      "{'tropical fruit': 1032, 'yogurt': 1372, 'coffee': 571, 'whole milk': 2513, 'pip fruit': 744, 'cream cheese': 390, 'meat spreads': 42, 'other vegetables': 1903, 'condensed milk': 101, 'long life bakery product': 368, 'butter': 545, 'rice': 75, 'abrasive cleaner': 35, 'rolls/buns': 1809, 'UHT-milk': 329, 'bottled beer': 792, 'liquor (appetizer)': 78, 'potted plants': 170, 'cereals': 56, 'white bread': 414, 'bottled water': 1087, 'chocolate': 488, 'citrus fruit': 813, 'curd': 524, 'flour': 171, 'dishes': 173, 'beef': 516, 'frankfurter': 580, 'soda': 1715, 'chicken': 422, 'sugar': 333, 'fruit/vegetable juice': 711, 'newspapers': 785, 'packaged fruit/vegetables': 128, 'specialty bar': 269, 'butter milk': 275, 'pastry': 875, 'processed cheese': 163, 'detergent': 189, 'root vegetables': 1072, 'frozen dessert': 106, 'sweet spreads': 89, 'salty snack': 372, 'waffles': 378, 'candy': 294, 'bathroom cleaner': 27, 'canned beer': 764, 'sausage': 924, 'brown bread': 638, 'shopping bags': 969, 'beverages': 256, 'hamburger meat': 327, 'spices': 51, 'hygiene articles': 324, 'napkins': 515, 'pork': 567, 'berries': 327, 'whipped/sour cream': 705, 'artif. sweetener': 32, 'grapes': 220, 'dessert': 365, 'zwieback': 68, 'domestic eggs': 624, 'spread cheese': 110, 'misc. beverages': 279, 'hard cheese': 241, 'cat food': 229, 'ham': 256, 'turkey': 80, 'semi-finished bread': 173, 'margarine': 575, 'baking powder': 174, 'pickled vegetables': 176, 'oil': 276, 'chewing gum': 207, 'chocolate marshmallow': 89, 'ice cream': 246, 'frozen vegetables': 473, 'canned fish': 148, 'seasonal products': 140, 'curd cheese': 50, 'red/blush wine': 189, 'frozen potato products': 83, 'specialty fat': 36, 'specialty chocolate': 299, 'candles': 88, 'flower (seeds)': 102, 'sparkling wine': 55, 'salt': 106, 'frozen meals': 279, 'canned vegetables': 106, 'onions': 305, 'herbs': 160, 'white wine': 187, 'brandy': 41, 'photo/film': 91, 'sliced cheese': 241, 'pasta': 148, 'softener': 54, 'cling film/bags': 112, 'fish': 29, 'male cosmetics': 45, 'canned fruit': 32, 'Instant food products': 79, 'soft cheese': 168, 'honey': 15, 'dental care': 57, 'popcorn': 71, 'cake bar': 130, 'snack products': 30, 'flower soil/fertilizer': 19, 'specialty cheese': 84, 'finished products': 64, 'cocoa drinks': 22, 'dog food': 84, 'prosecco': 20, 'frozen fish': 115, 'make up remover': 8, 'cleaner': 50, 'female sanitary products': 60, 'dish cleaner': 103, 'cookware': 27, 'meat': 254, 'tea': 38, 'mustard': 118, 'house keeping products': 82, 'skin care': 35, 'potato products': 28, 'liquor': 109, 'pet care': 93, 'soups': 67, 'rum': 44, 'salad dressing': 8, 'sauces': 54, 'vinegar': 64, 'soap': 26, 'hair spray': 11, 'instant coffee': 73, 'roll products': 101, 'mayonnaise': 90, 'rubbing alcohol': 10, 'syrup': 32, 'liver loaf': 50, 'baby cosmetics': 6, 'organic products': 16, 'nut snack': 31, 'kitchen towels': 59, 'frozen chicken': 6, 'light bulbs': 41, 'ketchup': 42, 'jam': 53, 'ready soups': 17, 'decalcifier': 15, 'nuts/prunes': 33, 'liqueur': 9, 'organic sausage': 22, 'cream': 13, 'toilet cleaner': 7, 'specialty vegetables': 17, 'baby food': 1, 'pudding powder': 23, 'tidbits': 23, 'whisky': 8, 'frozen fruits': 12, 'bags': 4, 'cooking chocolate': 25, 'sound storage medium': 1, 'kitchen utensil': 4, 'preservation products': 2}\n"
     ]
    }
   ],
   "source": [
    "mydict = {}\n",
    "row, col = df.shape\n",
    "for i in range(row):\n",
    "    for j in range(col):\n",
    "        if isinstance(df.iloc[i, j], str):\n",
    "            if df.iloc[i, j] not in mydict:\n",
    "                mydict[df.iloc[i, j]] = 1\n",
    "            else:\n",
    "                mydict[df.iloc[i, j]] += 1\n",
    "print(mydict)"
   ]
  },
  {
   "cell_type": "code",
   "execution_count": 18,
   "id": "8b23e96d",
   "metadata": {},
   "outputs": [],
   "source": [
    "records = []\n",
    "for i in range(0,9834):\n",
    "    records.append([str(df.values[i,j]) for j in range(0,32)])"
   ]
  },
  {
   "cell_type": "code",
   "execution_count": 19,
   "id": "62dd86dc",
   "metadata": {},
   "outputs": [],
   "source": [
    "# GENERATE ASSOCIATION RULES\n",
    "association_rules = apriori(records, min_threshold=2)\n",
    "association_results = list(association_rules)"
   ]
  },
  {
   "cell_type": "code",
   "execution_count": 20,
   "id": "52d4d5ed",
   "metadata": {},
   "outputs": [
    {
     "name": "stdout",
     "output_type": "stream",
     "text": [
      "17\n"
     ]
    }
   ],
   "source": [
    "print(len(association_results))"
   ]
  },
  {
   "cell_type": "code",
   "execution_count": 21,
   "id": "cd21970b",
   "metadata": {},
   "outputs": [
    {
     "name": "stdout",
     "output_type": "stream",
     "text": [
      "[RelationRecord(items=frozenset({'bottled water'}), support=0.11053487899125483, ordered_statistics=[OrderedStatistic(items_base=frozenset(), items_add=frozenset({'bottled water'}), confidence=0.11053487899125483, lift=1.0)]), RelationRecord(items=frozenset({'nan'}), support=0.9998983119788489, ordered_statistics=[OrderedStatistic(items_base=frozenset(), items_add=frozenset({'nan'}), confidence=0.9998983119788489, lift=1.0)]), RelationRecord(items=frozenset({'other vegetables'}), support=0.1935123042505593, ordered_statistics=[OrderedStatistic(items_base=frozenset(), items_add=frozenset({'other vegetables'}), confidence=0.1935123042505593, lift=1.0)]), RelationRecord(items=frozenset({'rolls/buns'}), support=0.1839536302623551, ordered_statistics=[OrderedStatistic(items_base=frozenset(), items_add=frozenset({'rolls/buns'}), confidence=0.1839536302623551, lift=1.0)]), RelationRecord(items=frozenset({'root vegetables'}), support=0.1090095586739882, ordered_statistics=[OrderedStatistic(items_base=frozenset(), items_add=frozenset({'root vegetables'}), confidence=0.1090095586739882, lift=1.0)]), RelationRecord(items=frozenset({'soda'}), support=0.17439495627415091, ordered_statistics=[OrderedStatistic(items_base=frozenset(), items_add=frozenset({'soda'}), confidence=0.17439495627415091, lift=1.0)]), RelationRecord(items=frozenset({'tropical fruit'}), support=0.10494203782794387, ordered_statistics=[OrderedStatistic(items_base=frozenset(), items_add=frozenset({'tropical fruit'}), confidence=0.10494203782794387, lift=1.0)]), RelationRecord(items=frozenset({'whole milk'}), support=0.2555419971527354, ordered_statistics=[OrderedStatistic(items_base=frozenset(), items_add=frozenset({'whole milk'}), confidence=0.2555419971527354, lift=1.0)]), RelationRecord(items=frozenset({'yogurt'}), support=0.13951596501932073, ordered_statistics=[OrderedStatistic(items_base=frozenset(), items_add=frozenset({'yogurt'}), confidence=0.13951596501932073, lift=1.0)]), RelationRecord(items=frozenset({'nan', 'bottled water'}), support=0.11053487899125483, ordered_statistics=[OrderedStatistic(items_base=frozenset(), items_add=frozenset({'nan', 'bottled water'}), confidence=0.11053487899125483, lift=1.0), OrderedStatistic(items_base=frozenset({'bottled water'}), items_add=frozenset({'nan'}), confidence=1.0, lift=1.0001016983626563), OrderedStatistic(items_base=frozenset({'nan'}), items_add=frozenset({'bottled water'}), confidence=0.11054612020746465, lift=1.0001016983626563)]), RelationRecord(items=frozenset({'other vegetables', 'nan'}), support=0.19341061622940817, ordered_statistics=[OrderedStatistic(items_base=frozenset(), items_add=frozenset({'other vegetables', 'nan'}), confidence=0.19341061622940817, lift=1.0), OrderedStatistic(items_base=frozenset({'nan'}), items_add=frozenset({'other vegetables'}), confidence=0.19343028577239904, lift=0.9995761588469638), OrderedStatistic(items_base=frozenset({'other vegetables'}), items_add=frozenset({'nan'}), confidence=0.9994745139253809, lift=0.9995761588469638)]), RelationRecord(items=frozenset({'nan', 'rolls/buns'}), support=0.183851942241204, ordered_statistics=[OrderedStatistic(items_base=frozenset(), items_add=frozenset({'nan', 'rolls/buns'}), confidence=0.183851942241204, lift=1.0), OrderedStatistic(items_base=frozenset({'nan'}), items_add=frozenset({'rolls/buns'}), confidence=0.18387063968270112, lift=0.9995488505470884), OrderedStatistic(items_base=frozenset({'rolls/buns'}), items_add=frozenset({'nan'}), confidence=0.9994472084024324, lift=0.9995488505470883)]), RelationRecord(items=frozenset({'nan', 'root vegetables'}), support=0.1089078706528371, ordered_statistics=[OrderedStatistic(items_base=frozenset(), items_add=frozenset({'nan', 'root vegetables'}), confidence=0.1089078706528371, lift=1.0), OrderedStatistic(items_base=frozenset({'nan'}), items_add=frozenset({'root vegetables'}), confidence=0.10891894640496287, lift=0.9991687676738852), OrderedStatistic(items_base=frozenset({'root vegetables'}), items_add=frozenset({'nan'}), confidence=0.9990671641791045, lift=0.9991687676738852)]), RelationRecord(items=frozenset({'nan', 'soda'}), support=0.17439495627415091, ordered_statistics=[OrderedStatistic(items_base=frozenset(), items_add=frozenset({'nan', 'soda'}), confidence=0.17439495627415091, lift=1.0), OrderedStatistic(items_base=frozenset({'nan'}), items_add=frozenset({'soda'}), confidence=0.1744126919556595, lift=1.0001016983626563), OrderedStatistic(items_base=frozenset({'soda'}), items_add=frozenset({'nan'}), confidence=1.0, lift=1.0001016983626563)]), RelationRecord(items=frozenset({'tropical fruit', 'nan'}), support=0.10484034980679276, ordered_statistics=[OrderedStatistic(items_base=frozenset(), items_add=frozenset({'tropical fruit', 'nan'}), confidence=0.10484034980679276, lift=1.0), OrderedStatistic(items_base=frozenset({'nan'}), items_add=frozenset({'tropical fruit'}), confidence=0.10485101189870842, lift=0.9991326075696692), OrderedStatistic(items_base=frozenset({'tropical fruit'}), items_add=frozenset({'nan'}), confidence=0.999031007751938, lift=0.9991326075696693)]), RelationRecord(items=frozenset({'nan', 'whole milk'}), support=0.2554403091315843, ordered_statistics=[OrderedStatistic(items_base=frozenset(), items_add=frozenset({'nan', 'whole milk'}), confidence=0.2554403091315843, lift=1.0), OrderedStatistic(items_base=frozenset({'nan'}), items_add=frozenset({'whole milk'}), confidence=0.2554662869927794, lift=0.9997037271337018), OrderedStatistic(items_base=frozenset({'whole milk'}), items_add=frozenset({'nan'}), confidence=0.9996020692399522, lift=0.9997037271337018)]), RelationRecord(items=frozenset({'nan', 'yogurt'}), support=0.1394142769981696, ordered_statistics=[OrderedStatistic(items_base=frozenset(), items_add=frozenset({'nan', 'yogurt'}), confidence=0.1394142769981696, lift=1.0), OrderedStatistic(items_base=frozenset({'nan'}), items_add=frozenset({'yogurt'}), confidence=0.13942845520187125, lift=0.9993727612647243), OrderedStatistic(items_base=frozenset({'yogurt'}), items_add=frozenset({'nan'}), confidence=0.9992711370262389, lift=0.9993727612647242)])]\n"
     ]
    }
   ],
   "source": [
    "# print the association rules along with support & confidence\n",
    "print(association_results)"
   ]
  },
  {
   "cell_type": "code",
   "execution_count": null,
   "id": "5a4ce440",
   "metadata": {},
   "outputs": [],
   "source": []
  }
 ],
 "metadata": {
  "kernelspec": {
   "display_name": "Python 3 (ipykernel)",
   "language": "python",
   "name": "python3"
  },
  "language_info": {
   "codemirror_mode": {
    "name": "ipython",
    "version": 3
   },
   "file_extension": ".py",
   "mimetype": "text/x-python",
   "name": "python",
   "nbconvert_exporter": "python",
   "pygments_lexer": "ipython3",
   "version": "3.9.7"
  }
 },
 "nbformat": 4,
 "nbformat_minor": 5
}
