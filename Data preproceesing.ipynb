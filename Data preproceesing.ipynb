{
 "cells": [
  {
   "cell_type": "code",
   "execution_count": 2,
   "id": "062215ea",
   "metadata": {},
   "outputs": [],
   "source": [
    "import pandas as pd\n",
    "import numpy as np\n",
    "from sklearn import preprocessing\n",
    "from sklearn.impute import SimpleImputer"
   ]
  },
  {
   "cell_type": "code",
   "execution_count": 3,
   "id": "12309a2d",
   "metadata": {},
   "outputs": [],
   "source": [
    "data=pd.read_csv('salesnew.csv')"
   ]
  },
  {
   "cell_type": "code",
   "execution_count": 4,
   "id": "d517665b",
   "metadata": {},
   "outputs": [],
   "source": [
    "df=pd.DataFrame(data)"
   ]
  },
  {
   "cell_type": "code",
   "execution_count": 5,
   "id": "fa809d14",
   "metadata": {},
   "outputs": [
    {
     "data": {
      "text/html": [
       "<div>\n",
       "<style scoped>\n",
       "    .dataframe tbody tr th:only-of-type {\n",
       "        vertical-align: middle;\n",
       "    }\n",
       "\n",
       "    .dataframe tbody tr th {\n",
       "        vertical-align: top;\n",
       "    }\n",
       "\n",
       "    .dataframe thead th {\n",
       "        text-align: right;\n",
       "    }\n",
       "</style>\n",
       "<table border=\"1\" class=\"dataframe\">\n",
       "  <thead>\n",
       "    <tr style=\"text-align: right;\">\n",
       "      <th></th>\n",
       "      <th>S.No</th>\n",
       "      <th>Country</th>\n",
       "      <th>Age</th>\n",
       "      <th>Salary</th>\n",
       "      <th>Purchased</th>\n",
       "    </tr>\n",
       "  </thead>\n",
       "  <tbody>\n",
       "    <tr>\n",
       "      <th>0</th>\n",
       "      <td>1</td>\n",
       "      <td>France</td>\n",
       "      <td>44.0</td>\n",
       "      <td>72000.0</td>\n",
       "      <td>No</td>\n",
       "    </tr>\n",
       "    <tr>\n",
       "      <th>1</th>\n",
       "      <td>2</td>\n",
       "      <td>Spain</td>\n",
       "      <td>27.0</td>\n",
       "      <td>48000.0</td>\n",
       "      <td>Yes</td>\n",
       "    </tr>\n",
       "    <tr>\n",
       "      <th>2</th>\n",
       "      <td>3</td>\n",
       "      <td>Germany</td>\n",
       "      <td>30.0</td>\n",
       "      <td>54000.0</td>\n",
       "      <td>No</td>\n",
       "    </tr>\n",
       "    <tr>\n",
       "      <th>3</th>\n",
       "      <td>4</td>\n",
       "      <td>Spain</td>\n",
       "      <td>38.0</td>\n",
       "      <td>61000.0</td>\n",
       "      <td>NaN</td>\n",
       "    </tr>\n",
       "    <tr>\n",
       "      <th>4</th>\n",
       "      <td>5</td>\n",
       "      <td>Germany</td>\n",
       "      <td>40.0</td>\n",
       "      <td>NaN</td>\n",
       "      <td>Yes</td>\n",
       "    </tr>\n",
       "  </tbody>\n",
       "</table>\n",
       "</div>"
      ],
      "text/plain": [
       "   S.No  Country   Age   Salary Purchased\n",
       "0     1   France  44.0  72000.0        No\n",
       "1     2    Spain  27.0  48000.0       Yes\n",
       "2     3  Germany  30.0  54000.0        No\n",
       "3     4    Spain  38.0  61000.0       NaN\n",
       "4     5  Germany  40.0      NaN       Yes"
      ]
     },
     "execution_count": 5,
     "metadata": {},
     "output_type": "execute_result"
    }
   ],
   "source": [
    "df.head()"
   ]
  },
  {
   "cell_type": "code",
   "execution_count": 6,
   "id": "70cf39cc",
   "metadata": {},
   "outputs": [
    {
     "data": {
      "text/html": [
       "<div>\n",
       "<style scoped>\n",
       "    .dataframe tbody tr th:only-of-type {\n",
       "        vertical-align: middle;\n",
       "    }\n",
       "\n",
       "    .dataframe tbody tr th {\n",
       "        vertical-align: top;\n",
       "    }\n",
       "\n",
       "    .dataframe thead th {\n",
       "        text-align: right;\n",
       "    }\n",
       "</style>\n",
       "<table border=\"1\" class=\"dataframe\">\n",
       "  <thead>\n",
       "    <tr style=\"text-align: right;\">\n",
       "      <th></th>\n",
       "      <th>S.No</th>\n",
       "      <th>Country</th>\n",
       "      <th>Age</th>\n",
       "      <th>Salary</th>\n",
       "      <th>Purchased</th>\n",
       "    </tr>\n",
       "  </thead>\n",
       "  <tbody>\n",
       "    <tr>\n",
       "      <th>5</th>\n",
       "      <td>6</td>\n",
       "      <td>France</td>\n",
       "      <td>23.0</td>\n",
       "      <td>58000.0</td>\n",
       "      <td>Yes</td>\n",
       "    </tr>\n",
       "    <tr>\n",
       "      <th>6</th>\n",
       "      <td>7</td>\n",
       "      <td>Spain</td>\n",
       "      <td>NaN</td>\n",
       "      <td>52000.0</td>\n",
       "      <td>No</td>\n",
       "    </tr>\n",
       "    <tr>\n",
       "      <th>7</th>\n",
       "      <td>8</td>\n",
       "      <td>NaN</td>\n",
       "      <td>48.0</td>\n",
       "      <td>79000.0</td>\n",
       "      <td>Yes</td>\n",
       "    </tr>\n",
       "    <tr>\n",
       "      <th>8</th>\n",
       "      <td>9</td>\n",
       "      <td>Germany</td>\n",
       "      <td>50.0</td>\n",
       "      <td>83000.0</td>\n",
       "      <td>No</td>\n",
       "    </tr>\n",
       "    <tr>\n",
       "      <th>9</th>\n",
       "      <td>10</td>\n",
       "      <td>France</td>\n",
       "      <td>NaN</td>\n",
       "      <td>67000.0</td>\n",
       "      <td>Yes</td>\n",
       "    </tr>\n",
       "  </tbody>\n",
       "</table>\n",
       "</div>"
      ],
      "text/plain": [
       "   S.No  Country   Age   Salary Purchased\n",
       "5     6   France  23.0  58000.0       Yes\n",
       "6     7    Spain   NaN  52000.0        No\n",
       "7     8      NaN  48.0  79000.0       Yes\n",
       "8     9  Germany  50.0  83000.0        No\n",
       "9    10   France   NaN  67000.0       Yes"
      ]
     },
     "execution_count": 6,
     "metadata": {},
     "output_type": "execute_result"
    }
   ],
   "source": [
    "df.tail()"
   ]
  },
  {
   "cell_type": "code",
   "execution_count": 7,
   "id": "ed151327",
   "metadata": {},
   "outputs": [
    {
     "name": "stdout",
     "output_type": "stream",
     "text": [
      "   S.No  Country   Age   Salary Purchased\n",
      "0     1   France  44.0  72000.0        No\n",
      "1     2    Spain  27.0  48000.0       Yes\n",
      "2     3  Germany  30.0  54000.0        No\n",
      "3     4    Spain  38.0  61000.0       NaN\n",
      "4     5  Germany  40.0      NaN       Yes\n",
      "5     6   France  23.0  58000.0       Yes\n",
      "6     7    Spain   NaN  52000.0        No\n",
      "7     8      NaN  48.0  79000.0       Yes\n",
      "8     9  Germany  50.0  83000.0        No\n",
      "9    10   France   NaN  67000.0       Yes\n"
     ]
    }
   ],
   "source": [
    "print(df)"
   ]
  },
  {
   "cell_type": "code",
   "execution_count": 8,
   "id": "849b9375",
   "metadata": {},
   "outputs": [
    {
     "name": "stdout",
     "output_type": "stream",
     "text": [
      "S.No         0\n",
      "Country      1\n",
      "Age          2\n",
      "Salary       1\n",
      "Purchased    1\n",
      "dtype: int64\n"
     ]
    }
   ],
   "source": [
    "null_values=df.isnull().sum()\n",
    "print(null_values)"
   ]
  },
  {
   "cell_type": "code",
   "execution_count": 9,
   "id": "f0d5b9cb",
   "metadata": {},
   "outputs": [
    {
     "name": "stdout",
     "output_type": "stream",
     "text": [
      "   S.No  Country   Age        Salary Purchased\n",
      "0     1   France  44.0  72000.000000        No\n",
      "1     2    Spain  27.0  48000.000000       Yes\n",
      "2     3  Germany  30.0  54000.000000        No\n",
      "3     4    Spain  38.0  61000.000000       NaN\n",
      "4     5  Germany  40.0  63777.777778       Yes\n",
      "5     6   France  23.0  58000.000000       Yes\n",
      "6     7    Spain   NaN  52000.000000        No\n",
      "7     8      NaN  48.0  79000.000000       Yes\n",
      "8     9  Germany  50.0  83000.000000        No\n",
      "9    10   France   NaN  67000.000000       Yes\n"
     ]
    }
   ],
   "source": [
    "imputer=SimpleImputer(missing_values=np.nan, strategy='mean')\n",
    "imputer.fit(df[['Salary']])\n",
    "df['Salary']=imputer.fit_transform(df[['Salary']])\n",
    "print(df)"
   ]
  },
  {
   "cell_type": "code",
   "execution_count": 10,
   "id": "e57cef85",
   "metadata": {},
   "outputs": [
    {
     "name": "stdout",
     "output_type": "stream",
     "text": [
      "   S.No  Country   Age        Salary Purchased\n",
      "0     1   France  44.0  72000.000000        No\n",
      "1     2    Spain  27.0  48000.000000       Yes\n",
      "2     3  Germany  30.0  54000.000000        No\n",
      "3     4    Spain  38.0  61000.000000       NaN\n",
      "4     5  Germany  40.0  63777.777778       Yes\n",
      "5     6   France  23.0  58000.000000       Yes\n",
      "6     7    Spain  39.0  52000.000000        No\n",
      "7     8      NaN  48.0  79000.000000       Yes\n",
      "8     9  Germany  50.0  83000.000000        No\n",
      "9    10   France  39.0  67000.000000       Yes\n"
     ]
    }
   ],
   "source": [
    "imputer=SimpleImputer(missing_values=np.nan, strategy='median')\n",
    "imputer.fit(df[['Age']])\n",
    "df['Age']=imputer.fit_transform(df[['Age']])\n",
    "print(df)"
   ]
  },
  {
   "cell_type": "code",
   "execution_count": 11,
   "id": "d1c0ebd9",
   "metadata": {},
   "outputs": [
    {
     "name": "stdout",
     "output_type": "stream",
     "text": [
      "   S.No  Country   Age        Salary Purchased\n",
      "0     1   France  44.0  72000.000000        No\n",
      "1     2    Spain  27.0  48000.000000       Yes\n",
      "2     3  Germany  30.0  54000.000000        No\n",
      "3     4    Spain  38.0  61000.000000       NaN\n",
      "4     5  Germany  40.0  63777.777778       Yes\n",
      "5     6   France  23.0  58000.000000       Yes\n",
      "6     7    Spain  39.0  52000.000000        No\n",
      "7     8   France  48.0  79000.000000       Yes\n",
      "8     9  Germany  50.0  83000.000000        No\n",
      "9    10   France  39.0  67000.000000       Yes\n"
     ]
    }
   ],
   "source": [
    "imputer=SimpleImputer(missing_values=np.nan, strategy='most_frequent')\n",
    "imputer.fit(df[['Country']])\n",
    "df['Country']=imputer.fit_transform(df[['Country']])\n",
    "print(df)"
   ]
  },
  {
   "cell_type": "code",
   "execution_count": 12,
   "id": "e397459b",
   "metadata": {},
   "outputs": [
    {
     "name": "stdout",
     "output_type": "stream",
     "text": [
      "   S.No  Country   Age        Salary Purchased\n",
      "0     1   France  44.0  72000.000000        No\n",
      "1     2    Spain  27.0  48000.000000       Yes\n",
      "2     3  Germany  30.0  54000.000000        No\n",
      "3     4    Spain  38.0  61000.000000        No\n",
      "4     5  Germany  40.0  63777.777778       Yes\n",
      "5     6   France  23.0  58000.000000       Yes\n",
      "6     7    Spain  39.0  52000.000000        No\n",
      "7     8   France  48.0  79000.000000       Yes\n",
      "8     9  Germany  50.0  83000.000000        No\n",
      "9    10   France  39.0  67000.000000       Yes\n"
     ]
    }
   ],
   "source": [
    "imputer=SimpleImputer(missing_values=np.nan, strategy='constant', fill_value='No')\n",
    "imputer.fit(df[['Purchased']])\n",
    "df['Purchased']=imputer.fit_transform(df[['Purchased']])\n",
    "print(df)"
   ]
  },
  {
   "cell_type": "code",
   "execution_count": 13,
   "id": "71718423",
   "metadata": {},
   "outputs": [
    {
     "name": "stdout",
     "output_type": "stream",
     "text": [
      "   S.No  Country   Age        Salary  Purchased_No  Purchased_Yes\n",
      "0     1   France  44.0  72000.000000             1              0\n",
      "1     2    Spain  27.0  48000.000000             0              1\n",
      "2     3  Germany  30.0  54000.000000             1              0\n",
      "3     4    Spain  38.0  61000.000000             1              0\n",
      "4     5  Germany  40.0  63777.777778             0              1\n",
      "5     6   France  23.0  58000.000000             0              1\n",
      "6     7    Spain  39.0  52000.000000             1              0\n",
      "7     8   France  48.0  79000.000000             0              1\n",
      "8     9  Germany  50.0  83000.000000             1              0\n",
      "9    10   France  39.0  67000.000000             0              1\n"
     ]
    }
   ],
   "source": [
    "onehotencoded_data = pd.get_dummies(data, columns = ['Purchased'])\n",
    "print(onehotencoded_data)\n"
   ]
  },
  {
   "cell_type": "code",
   "execution_count": 14,
   "id": "f83b8ac7",
   "metadata": {},
   "outputs": [
    {
     "name": "stdout",
     "output_type": "stream",
     "text": [
      "   S.No  Country   Age        Salary  Purchased\n",
      "0     1   France  44.0  72000.000000          0\n",
      "1     2    Spain  27.0  48000.000000          1\n",
      "2     3  Germany  30.0  54000.000000          0\n",
      "3     4    Spain  38.0  61000.000000          0\n",
      "4     5  Germany  40.0  63777.777778          1\n",
      "5     6   France  23.0  58000.000000          1\n",
      "6     7    Spain  39.0  52000.000000          0\n",
      "7     8   France  48.0  79000.000000          1\n",
      "8     9  Germany  50.0  83000.000000          0\n",
      "9    10   France  39.0  67000.000000          1\n"
     ]
    }
   ],
   "source": [
    "label_encoder = preprocessing.LabelEncoder()\n",
    "df['Purchased']= label_encoder.fit_transform(df['Purchased'].astype(str))\n",
    "print(df)"
   ]
  },
  {
   "cell_type": "code",
   "execution_count": 15,
   "id": "043898e0",
   "metadata": {},
   "outputs": [
    {
     "name": "stdout",
     "output_type": "stream",
     "text": [
      "   S.No  Country   Age        Salary  Purchased            datetime\n",
      "0     1   France  44.0  72000.000000          0 2021-09-08 12:31:00\n",
      "1     2    Spain  27.0  48000.000000          1 2022-01-23 05:01:00\n",
      "2     3  Germany  30.0  54000.000000          0 2022-08-15 17:02:00\n",
      "3     4    Spain  38.0  61000.000000          0 2023-03-08 09:03:00\n",
      "4     5  Germany  40.0  63777.777778          1 2023-06-24 21:04:00\n",
      "5     6   France  23.0  58000.000000          1 2021-11-10 03:05:00\n",
      "6     7    Spain  39.0  52000.000000          0 2022-05-03 15:06:00\n",
      "7     8   France  48.0  79000.000000          1 2023-02-12 07:07:00\n",
      "8     9  Germany  50.0  83000.000000          0 2022-07-18 19:08:00\n",
      "9    10   France  39.0  67000.000000          1 2023-04-09 11:09:00\n"
     ]
    }
   ],
   "source": [
    "# Feature Splitting\n",
    "#create a column datetime\n",
    "\n",
    "df[\"datetime\"] = [\n",
    "    \"2021-09-08 12:31:00\",\n",
    "    \"2022-01-23 05:01:00\",\n",
    "    \"2022-08-15 17:02:00\",\n",
    "    \"2023-03-08 09:03:00\",\n",
    "    \"2023-06-24 21:04:00\",\n",
    "    \"2021-11-10 03:05:00\",\n",
    "    \"2022-05-03 15:06:00\",\n",
    "    \"2023-02-12 07:07:00\",\n",
    "    \"2022-07-18 19:08:00\",\n",
    "    \"2023-04-09 11:09:00\",\n",
    "]\n",
    "\n",
    "df['datetime'] = pd.to_datetime(df['datetime'])\n",
    "print(df)"
   ]
  },
  {
   "cell_type": "code",
   "execution_count": 16,
   "id": "13518d3d",
   "metadata": {},
   "outputs": [
    {
     "name": "stdout",
     "output_type": "stream",
     "text": [
      "   S.No  Country   Age        Salary  Purchased            datetime  \\\n",
      "0     1   France  44.0  72000.000000          0 2021-09-08 12:31:00   \n",
      "1     2    Spain  27.0  48000.000000          1 2022-01-23 05:01:00   \n",
      "2     3  Germany  30.0  54000.000000          0 2022-08-15 17:02:00   \n",
      "3     4    Spain  38.0  61000.000000          0 2023-03-08 09:03:00   \n",
      "4     5  Germany  40.0  63777.777778          1 2023-06-24 21:04:00   \n",
      "5     6   France  23.0  58000.000000          1 2021-11-10 03:05:00   \n",
      "6     7    Spain  39.0  52000.000000          0 2022-05-03 15:06:00   \n",
      "7     8   France  48.0  79000.000000          1 2023-02-12 07:07:00   \n",
      "8     9  Germany  50.0  83000.000000          0 2022-07-18 19:08:00   \n",
      "9    10   France  39.0  67000.000000          1 2023-04-09 11:09:00   \n",
      "\n",
      "         Date      Time  \n",
      "0  2021-09-08  12:31:00  \n",
      "1  2022-01-23  05:01:00  \n",
      "2  2022-08-15  17:02:00  \n",
      "3  2023-03-08  09:03:00  \n",
      "4  2023-06-24  21:04:00  \n",
      "5  2021-11-10  03:05:00  \n",
      "6  2022-05-03  15:06:00  \n",
      "7  2023-02-12  07:07:00  \n",
      "8  2022-07-18  19:08:00  \n",
      "9  2023-04-09  11:09:00  \n"
     ]
    }
   ],
   "source": [
    "# Splitting the column datetime\n",
    "df['Date'] = df[\"datetime\"].dt.date\n",
    "df['Time'] = df[\"datetime\"].dt.time\n",
    "\n",
    "print(df)"
   ]
  },
  {
   "cell_type": "code",
   "execution_count": 17,
   "id": "4ee6b7b2",
   "metadata": {},
   "outputs": [
    {
     "name": "stdout",
     "output_type": "stream",
     "text": [
      "   S.No  Country   Age        Salary  Purchased            datetime  \\\n",
      "0     1   France  44.0  72000.000000          0 2021-09-08 12:31:00   \n",
      "1     2    Spain  27.0  48000.000000          1 2022-01-23 05:01:00   \n",
      "2     3  Germany  30.0  54000.000000          0 2022-08-15 17:02:00   \n",
      "3     4    Spain  38.0  61000.000000          0 2023-03-08 09:03:00   \n",
      "4     5  Germany  40.0  63777.777778          1 2023-06-24 21:04:00   \n",
      "5     6   France  23.0  58000.000000          1 2021-11-10 03:05:00   \n",
      "6     7    Spain  39.0  52000.000000          0 2022-05-03 15:06:00   \n",
      "7     8   France  48.0  79000.000000          1 2023-02-12 07:07:00   \n",
      "8     9  Germany  50.0  83000.000000          0 2022-07-18 19:08:00   \n",
      "9    10   France  39.0  67000.000000          1 2023-04-09 11:09:00   \n",
      "\n",
      "         Date      Time  Day  Weekend  \n",
      "0  2021-09-08  12:31:00    2    False  \n",
      "1  2022-01-23  05:01:00    6     True  \n",
      "2  2022-08-15  17:02:00    0    False  \n",
      "3  2023-03-08  09:03:00    2    False  \n",
      "4  2023-06-24  21:04:00    5     True  \n",
      "5  2021-11-10  03:05:00    2    False  \n",
      "6  2022-05-03  15:06:00    1    False  \n",
      "7  2023-02-12  07:07:00    6     True  \n",
      "8  2022-07-18  19:08:00    0    False  \n",
      "9  2023-04-09  11:09:00    6     True  \n"
     ]
    }
   ],
   "source": [
    "# Feature Creation\n",
    "# Create a column for weekday/weekend\n",
    "df[\"Day\"] = df[\"datetime\"].dt.weekday\n",
    "df[\"Weekend\"] = df[\"Day\"] >= 5\n",
    "print(df)"
   ]
  },
  {
   "cell_type": "code",
   "execution_count": 18,
   "id": "f5c168f7",
   "metadata": {},
   "outputs": [
    {
     "name": "stdout",
     "output_type": "stream",
     "text": [
      "The Bins:  [(20, 25), (25, 30), (30, 35), (35, 40), (40, 45), (45, 50), (50, 55), (55, 60), (60, 65), (65, 70), (70, 75)]\n"
     ]
    }
   ],
   "source": [
    "# Binning\n",
    "\n",
    "# function to create the range for bins\n",
    "def binning(lower_bound, width, quantity):\n",
    "   binning = []\n",
    "   for low in range(lower_bound, lower_bound + quantity * width + 1, width):\n",
    "      binning.append((low, low + width))\n",
    "   return binning\n",
    "\n",
    "# function to assign the values according to the range of bins\n",
    "def assignBin(v, b):\n",
    "   for i in range(0, len(b)):\n",
    "      if b[i][0] <= v < b[i][1]:\n",
    "         return i\n",
    "\n",
    "#creating bins\n",
    "the_bins = binning(lower_bound=20,\n",
    "   width=5,\n",
    "   quantity=10)\n",
    "print(\"The Bins: \",the_bins)"
   ]
  },
  {
   "cell_type": "code",
   "execution_count": 19,
   "id": "8254076d",
   "metadata": {},
   "outputs": [
    {
     "name": "stdout",
     "output_type": "stream",
     "text": [
      "Binned Values:\n",
      "{'Value': [44.0, 27.0, 30.0, 38.0, 40.0, 23.0, 39.0, 48.0, 50.0, 39.0], 'Bins': [4, 1, 2, 3, 4, 0, 3, 5, 6, 3]}\n"
     ]
    }
   ],
   "source": [
    "# create and store the values of column Age in a dictionary\n",
    "dict={\"Value\":[],\"Bins\":[]};\n",
    "X = df[\"Age\"]\n",
    "print(\"Binned Values:\")\n",
    "binned_weight = []\n",
    "for val in X:\n",
    "   index = assignBin(val, the_bins)\n",
    "   binned_weight.append(index)\n",
    "   dict[\"Value\"].append(val)\n",
    "   dict[\"Bins\"].append(index)\n",
    "\n",
    "print(dict)"
   ]
  },
  {
   "cell_type": "code",
   "execution_count": 20,
   "id": "07a8625b",
   "metadata": {},
   "outputs": [
    {
     "name": "stdout",
     "output_type": "stream",
     "text": [
      "   Value  Bins\n",
      "0   44.0     4\n",
      "1   27.0     1\n",
      "2   30.0     2\n",
      "3   38.0     3\n",
      "4   40.0     4\n",
      "5   23.0     0\n",
      "6   39.0     3\n",
      "7   48.0     5\n",
      "8   50.0     6\n",
      "9   39.0     3\n"
     ]
    }
   ],
   "source": [
    "# create a new datafraame to store the bin ranges and values\n",
    "bin_df = pd.DataFrame(dict)\n",
    "print(bin_df)\n"
   ]
  },
  {
   "cell_type": "code",
   "execution_count": 21,
   "id": "03da32eb",
   "metadata": {},
   "outputs": [
    {
     "data": {
      "text/plain": [
       "3    3\n",
       "4    2\n",
       "1    1\n",
       "2    1\n",
       "0    1\n",
       "5    1\n",
       "6    1\n",
       "Name: Bins, dtype: int64"
      ]
     },
     "execution_count": 21,
     "metadata": {},
     "output_type": "execute_result"
    }
   ],
   "source": [
    "# Frequency table of column Age\n",
    "bin_df[\"Bins\"].value_counts()"
   ]
  },
  {
   "cell_type": "code",
   "execution_count": null,
   "id": "a3180f54",
   "metadata": {},
   "outputs": [],
   "source": []
  }
 ],
 "metadata": {
  "kernelspec": {
   "display_name": "Python 3 (ipykernel)",
   "language": "python",
   "name": "python3"
  },
  "language_info": {
   "codemirror_mode": {
    "name": "ipython",
    "version": 3
   },
   "file_extension": ".py",
   "mimetype": "text/x-python",
   "name": "python",
   "nbconvert_exporter": "python",
   "pygments_lexer": "ipython3",
   "version": "3.9.7"
  }
 },
 "nbformat": 4,
 "nbformat_minor": 5
}
